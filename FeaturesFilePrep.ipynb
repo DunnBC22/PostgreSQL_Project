{
 "cells": [
  {
   "cell_type": "code",
   "execution_count": 1,
   "id": "attended-remove",
   "metadata": {},
   "outputs": [
    {
     "name": "stdout",
     "output_type": "stream",
     "text": [
      "<class 'pandas.core.frame.DataFrame'>\n",
      "RangeIndex: 8190 entries, 0 to 8189\n",
      "Data columns (total 7 columns):\n",
      " #   Column        Non-Null Count  Dtype         \n",
      "---  ------        --------------  -----         \n",
      " 0   Store         8190 non-null   int64         \n",
      " 1   Date          8190 non-null   datetime64[ns]\n",
      " 2   Temperature   8190 non-null   float64       \n",
      " 3   Fuel_Price    8190 non-null   float64       \n",
      " 4   CPI           7605 non-null   float64       \n",
      " 5   Unemployment  7605 non-null   float64       \n",
      " 6   IsHoliday     8190 non-null   int64         \n",
      "dtypes: datetime64[ns](1), float64(4), int64(2)\n",
      "memory usage: 448.0 KB\n"
     ]
    }
   ],
   "source": [
    "import pandas as pd\n",
    "import numpy as np\n",
    "\n",
    "data = pd.read_csv(\"~/Desktop/Data Sets for MySQL/Retail Data Analytics-PostgreSQL/features data set.csv\")\n",
    "del data['NOT']\n",
    "del data['NOT.1']\n",
    "del data['MarkDown1']\n",
    "del data['MarkDown2']\n",
    "del data['MarkDown3']\n",
    "del data['MarkDown4']\n",
    "del data['MarkDown5']\n",
    "data['Date'] = pd.to_datetime(data['Date'])\n",
    "data['CPI'].replace('', np.nan)\n",
    "data['Unemployment'].replace('', np.nan)\n",
    "#data.insert(7, \"Insert Statement\", None, True)\n",
    "data.info()"
   ]
  },
  {
   "cell_type": "code",
   "execution_count": 2,
   "id": "concerned-driver",
   "metadata": {},
   "outputs": [
    {
     "data": {
      "text/plain": [
       "'for x in range(len(data)):\\n    storeID = data.iloc[x, 0]\\n    date = data.iloc[x, 1]\\n    temperature = data.iloc[x, 2]\\n    fuelPrice = data.iloc[x, 3]\\n    CPI = data.iloc[x, 4]\\n    unemployment = data.iloc[x, 5]\\n    isHoliday = data.iloc[x, 6]\\n    insert_statement = \"INSERT INTO Features (storeID, Date, temperature, fuelPrice, CPI, unemployment, isHoliday) VALUES (%s, %s, %s, %s, %s, %s, %s);\" % (storeID, date, temperature, fuelPrice, CPI, unemployment, isHoliday)\\n    data.iloc[x, 7] = insert_statement'"
      ]
     },
     "execution_count": 2,
     "metadata": {},
     "output_type": "execute_result"
    }
   ],
   "source": [
    "'''for x in range(len(data)):\n",
    "    storeID = data.iloc[x, 0]\n",
    "    date = data.iloc[x, 1]\n",
    "    temperature = data.iloc[x, 2]\n",
    "    fuelPrice = data.iloc[x, 3]\n",
    "    CPI = data.iloc[x, 4]\n",
    "    unemployment = data.iloc[x, 5]\n",
    "    isHoliday = data.iloc[x, 6]\n",
    "    insert_statement = \"INSERT INTO Features (storeID, Date, temperature, fuelPrice, CPI, unemployment, isHoliday) VALUES (%s, %s, %s, %s, %s, %s, %s);\" % (storeID, date, temperature, fuelPrice, CPI, unemployment, isHoliday)\n",
    "    data.iloc[x, 7] = insert_statement'''"
   ]
  },
  {
   "cell_type": "code",
   "execution_count": 4,
   "id": "incredible-vegetation",
   "metadata": {},
   "outputs": [],
   "source": [
    "data.to_csv(\"~/Desktop/Data Sets for MySQL/Retail Data Analytics-PostgreSQL/FeaturesCLEANED.csv\",index_label=False, index=False, header=False)"
   ]
  },
  {
   "cell_type": "code",
   "execution_count": null,
   "id": "authentic-picture",
   "metadata": {},
   "outputs": [],
   "source": []
  }
 ],
 "metadata": {
  "kernelspec": {
   "display_name": "Python 3",
   "language": "python",
   "name": "python3"
  },
  "language_info": {
   "codemirror_mode": {
    "name": "ipython",
    "version": 3
   },
   "file_extension": ".py",
   "mimetype": "text/x-python",
   "name": "python",
   "nbconvert_exporter": "python",
   "pygments_lexer": "ipython3",
   "version": "3.8.5"
  }
 },
 "nbformat": 4,
 "nbformat_minor": 5
}
