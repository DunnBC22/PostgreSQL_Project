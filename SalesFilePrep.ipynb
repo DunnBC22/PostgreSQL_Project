{
 "cells": [
  {
   "cell_type": "code",
   "execution_count": 2,
   "id": "pleased-runner",
   "metadata": {},
   "outputs": [
    {
     "name": "stdout",
     "output_type": "stream",
     "text": [
      "<class 'pandas.core.frame.DataFrame'>\n",
      "RangeIndex: 421570 entries, 0 to 421569\n",
      "Data columns (total 4 columns):\n",
      " #   Column        Non-Null Count   Dtype         \n",
      "---  ------        --------------   -----         \n",
      " 0   Store         421570 non-null  int64         \n",
      " 1   Dept          421570 non-null  int64         \n",
      " 2   Date          421570 non-null  datetime64[ns]\n",
      " 3   Weekly_Sales  421570 non-null  float64       \n",
      "dtypes: datetime64[ns](1), float64(1), int64(2)\n",
      "memory usage: 12.9 MB\n",
      "None\n",
      "   Store  Dept       Date  Weekly_Sales\n",
      "0      1     1 2010-05-02      24924.50\n",
      "1      1     1 2010-12-02      46039.49\n",
      "2      1     1 2010-02-19      41595.55\n",
      "3      1     1 2010-02-26      19403.54\n",
      "4      1     1 2010-05-03      21827.90\n"
     ]
    }
   ],
   "source": [
    "import pandas as pd\n",
    "import numpy as np\n",
    "\n",
    "data = pd.read_csv('~/Desktop/Data Sets for MySQL/Retail Data Analytics-PostgreSQL/sales data-set.csv')\n",
    "del data['NOT']\n",
    "del data['NOT.1']\n",
    "del data['IsHoliday']\n",
    "data['Date'] = pd.to_datetime(data['Date'])\n",
    "#data.insert(4, \"Insert Statement\", None, True)\n",
    "print(data.info())\n",
    "print(data.head())"
   ]
  },
  {
   "cell_type": "code",
   "execution_count": 3,
   "id": "extreme-prize",
   "metadata": {},
   "outputs": [
    {
     "data": {
      "text/plain": [
       "'for x in range(len(data)): \\n    storeID = data.iloc[x,0] \\n    dept = data.iloc[x,1]\\n    salesDate = data.iloc[x,2]\\n    weeklySales = data.iloc[x,3]\\n    insert_statement = \"INSERT INTO Sales (storeID, dept, salesDate, weeklySales) VALUES (%s, %s, %s, %s);\" % (storeID, dept, salesDate, weeklySales) \\n    data.iloc[x,4] = insert_statement'"
      ]
     },
     "execution_count": 3,
     "metadata": {},
     "output_type": "execute_result"
    }
   ],
   "source": [
    "'''for x in range(len(data)): \n",
    "    storeID = data.iloc[x,0] \n",
    "    dept = data.iloc[x,1]\n",
    "    salesDate = data.iloc[x,2]\n",
    "    weeklySales = data.iloc[x,3]\n",
    "    insert_statement = \"INSERT INTO Sales (storeID, dept, salesDate, weeklySales) VALUES (%s, %s, %s, %s);\" % (storeID, dept, salesDate, weeklySales) \n",
    "    data.iloc[x,4] = insert_statement'''"
   ]
  },
  {
   "cell_type": "code",
   "execution_count": 4,
   "id": "aggregate-theorem",
   "metadata": {},
   "outputs": [],
   "source": [
    "#to_csv statement with options\n",
    "\n",
    "data.to_csv('~/Desktop/Data Sets for MySQL/Retail Data Analytics-PostgreSQL/SalesCLEANED.csv', index_label=False, index=False, header=False)"
   ]
  },
  {
   "cell_type": "code",
   "execution_count": null,
   "id": "material-community",
   "metadata": {},
   "outputs": [],
   "source": []
  }
 ],
 "metadata": {
  "kernelspec": {
   "display_name": "Python 3",
   "language": "python",
   "name": "python3"
  },
  "language_info": {
   "codemirror_mode": {
    "name": "ipython",
    "version": 3
   },
   "file_extension": ".py",
   "mimetype": "text/x-python",
   "name": "python",
   "nbconvert_exporter": "python",
   "pygments_lexer": "ipython3",
   "version": "3.8.5"
  }
 },
 "nbformat": 4,
 "nbformat_minor": 5
}
