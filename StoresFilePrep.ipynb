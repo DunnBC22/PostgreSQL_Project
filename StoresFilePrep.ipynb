{
 "cells": [
  {
   "cell_type": "code",
   "execution_count": 5,
   "id": "supported-spare",
   "metadata": {},
   "outputs": [
    {
     "name": "stdout",
     "output_type": "stream",
     "text": [
      "<class 'pandas.core.frame.DataFrame'>\n",
      "RangeIndex: 45 entries, 0 to 44\n",
      "Data columns (total 3 columns):\n",
      " #   Column  Non-Null Count  Dtype \n",
      "---  ------  --------------  ----- \n",
      " 0   Store   45 non-null     int64 \n",
      " 1   Type    45 non-null     object\n",
      " 2   Size    45 non-null     int64 \n",
      "dtypes: int64(2), object(1)\n",
      "memory usage: 1.2+ KB\n",
      "None\n",
      "   Store Type    Size\n",
      "0      1    A  151315\n",
      "1      2    A  202307\n",
      "2      3    B   37392\n",
      "3      4    A  205863\n",
      "4      5    B   34875\n"
     ]
    }
   ],
   "source": [
    "import pandas as pd\n",
    "import numpy as np\n",
    "\n",
    "data = pd.read_csv('~/Desktop/DataSetsforMySQL/RetailDataAnalytics-PostgreSQL/stores data-set.csv')\n",
    "#data.insert(3,'InsertStatement', None, True)\n",
    "print(data.info())\n",
    "print(data.head())"
   ]
  },
  {
   "cell_type": "code",
   "execution_count": 6,
   "id": "juvenile-index",
   "metadata": {},
   "outputs": [],
   "source": [
    "'''for x in range(len(data)):\n",
    "    #print(x)\n",
    "    storeID = data.iloc[x, 0]\n",
    "    storeType = data.iloc[x, 1]\n",
    "    size = data.iloc[x, 2]\n",
    "    insert_statement = \"INSERT INTO Stores (storeID, storeType, size) VALUES (%s , %s , %s);\" % (storeID, storeType, size)\n",
    "    data.iloc[x, 3] = insert_statement\n",
    "    #print(data.iloc[x, 3])'''\n",
    "\n",
    "data.to_csv('~/Desktop/DataSetsforMySQL/RetailDataAnalytics-PostgreSQL/StoresCLEANED.csv',index_label=False, index=False, header=False)"
   ]
  },
  {
   "cell_type": "code",
   "execution_count": null,
   "id": "vietnamese-biodiversity",
   "metadata": {},
   "outputs": [],
   "source": []
  }
 ],
 "metadata": {
  "kernelspec": {
   "display_name": "Python 3",
   "language": "python",
   "name": "python3"
  },
  "language_info": {
   "codemirror_mode": {
    "name": "ipython",
    "version": 3
   },
   "file_extension": ".py",
   "mimetype": "text/x-python",
   "name": "python",
   "nbconvert_exporter": "python",
   "pygments_lexer": "ipython3",
   "version": "3.8.5"
  }
 },
 "nbformat": 4,
 "nbformat_minor": 5
}
